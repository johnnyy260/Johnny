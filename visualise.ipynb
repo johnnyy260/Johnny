{
 "cells": [
  {
   "attachments": {},
   "cell_type": "markdown",
   "id": "e10942dc",
   "metadata": {},
   "source": [
    "# Visualise the results\n",
    "\n",
    "Run the following codes do visualise the results (only modify the first cell of code)"
   ]
  },
  {
   "cell_type": "code",
   "execution_count": null,
   "id": "4c9ca6df",
   "metadata": {},
   "outputs": [],
   "source": [
    "import pandas as pd\n",
    "import ast\n",
    "import numpy as np\n",
    "\n",
    "df = pd.read_csv(\"ADD HERE THE NAME OF THE FILE\") \n",
    "di = 5 # Add here the specified number of items dropping out of the first 5 recommended items (1-5)\n",
    "\n",
    "pd.set_option('display.max_rows', None)",
    "\n",
    "def dropped_items(row):\n",
    "    if pd.isnull(row['topk']) or pd.isnull(row['new_topk']):\n",
    "        return np.nan\n",
    "    topk = ast.literal_eval(row['topk'])\n",
    "    new_topk = ast.literal_eval(row['new_topk'])\n",
    "    return len(set(topk[:5]) - set(new_topk[:5]))\n",
    "\n",
    "df = pd.read_csv(\"ADD HERE THE NAME OF THE FILE\")\n",
    "\n",
    "df['dropped_items'] = df.apply(dropped_items, axis=1)\n",
    "di = di - 1\n",
    "df_updated = df[df['dropped_items'] > di]\n",
    "\n",
    "print(\"Updated DataFrame:\\n\", df_updated)"
   ]
  },
  {
   "cell_type": "code",
   "execution_count": null,
   "id": "6d898d83",
   "metadata": {},
   "outputs": [],
   "source": [
    "def count_counterfactuals(row):\n",
    "    if pd.isnull(row['counterfactual']):\n",
    "        return np.nan\n",
    "    counterfactual = ast.literal_eval(row['counterfactual'])\n",
    "    return len(counterfactual)\n",
    "\n",
    "df_updated['counterfactual_count'] = df_updated.apply(count_counterfactuals, axis=1)\n",
    "user_counterfactuals = df_updated.groupby('user')['counterfactual_count'].sum()\n",
    "print(user_counterfactuals)"
   ]
  },
  {
   "cell_type": "code",
   "execution_count": null,
   "id": "1194fa04",
   "metadata": {},
   "outputs": [],
   "source": [
    "df_updated['counterfactual'] = df_updated['counterfactual'].apply(lambda x: ast.literal_eval(x) if pd.notnull(x) else set())\n",
    "\n",
    "total_counterfactuals = df_updated['counterfactual'].apply(len).sum()\n",
    "\n",
    "num_users_with_counterfactuals = df_updated['counterfactual'].apply(lambda x: len(x) > 0).sum()\n",
    "\n",
    "result = total_counterfactuals / num_users_with_counterfactuals if num_users_with_counterfactuals != 0 else 0\n",
    "print(\"total_counterfactuals:\", total_counterfactuals)\n",
    "print(\"num_users_with_counterfactuals:\", num_users_with_counterfactuals)\n",
    "print(result)"
   ]
  },
  {
   "cell_type": "code",
   "execution_count": null,
   "id": "20c55dbd",
   "metadata": {},
   "outputs": [],
   "source": [
    "import re\n",
    "import pandas as pd\n",
    "import numpy as np\n",
    "\n",
    "# Load the csv files into pandas dataframes\n",
    "df_topk = df_updated\n",
    "df_movies = pd.read_csv(\"movie.csv\")\n",
    "\n",
    "# Create a dictionary mapping movieId to movie title\n",
    "id_to_title = dict(zip(df_movies['movieId'], df_movies['title']))\n",
    "\n",
    "def process_counterfactual(x):\n",
    "    if isinstance(x, str):\n",
    "        return {id_to_title.get(int(id.strip()), id) for id in x.strip('{}').split(',') if id.strip()}\n",
    "    else:\n",
    "        return np.nan\n",
    "\n",
    "def process_list(x):\n",
    "    if isinstance(x, str):\n",
    "        return [id_to_title.get(int(id), int(id)) for id in re.findall(r'\\d+', x)][:5]  # Only return first 5 items\n",
    "    else:\n",
    "        return np.nan\n",
    "\n",
    "# Replace movieId with movie title in topk and counterfactual lists\n",
    "df_topk['counterfactual'] = df_topk['counterfactual'].apply(process_counterfactual)\n",
    "df_topk['topk'] = df_topk['topk'].apply(process_list)\n",
    "df_topk['new_topk'] = df_topk['new_topk'].apply(process_list)\n",
    "\n",
    "# Convert the topk, new_topk, and counterfactual columns back to string\n",
    "df_topk['topk'] = df_topk['topk'].astype(str)\n",
    "df_topk['new_topk'] = df_topk['new_topk'].astype(str)\n",
    "df_topk['counterfactual'] = df_topk['counterfactual'].astype(str)\n",
    "\n",
    "# Remove rows that only have empty sets in the counterfactual column\n",
    "df_topk = df_topk[df_topk['counterfactual'] != \"nan\"]\n",
    "df_topk"
   ]
  },
  {
   "cell_type": "code",
   "execution_count": null,
   "id": "f18c5a27",
   "metadata": {},
   "outputs": [],
   "source": [
    "for index, row in df_topk.iterrows():\n",
    "    print(\"\\033[1m\" + \"User\" + \"\\033[0m\", row['user'], \"\\033[1m\" + \"was recommended:\" + \"\\033[0m\", row['topk'], \"\\n\\n\", \"\\033[1m\" + \"If the following movies are removed (counterfactuals)...:\" + \"\\033[0m\",  row['counterfactual'], \"\\n\\n\", \"\\033[1m\" + \"...the recommendation would be:\" + \"\\033[0m\", row['new_topk'])\n",
    "    print(\"\\n\\n\")"
   ]
  },
  {
   "cell_type": "code",
   "execution_count": null,
   "id": "73d960af",
   "metadata": {},
   "outputs": [],
   "source": []
  }
 ],
 "metadata": {
  "kernelspec": {
   "display_name": "Python 3 (ipykernel)",
   "language": "python",
   "name": "python3"
  },
  "language_info": {
   "codemirror_mode": {
    "name": "ipython",
    "version": 3
   },
   "file_extension": ".py",
   "mimetype": "text/x-python",
   "name": "python",
   "nbconvert_exporter": "python",
   "pygments_lexer": "ipython3",
   "version": "3.7.16"
  }
 },
 "nbformat": 4,
 "nbformat_minor": 5
}
